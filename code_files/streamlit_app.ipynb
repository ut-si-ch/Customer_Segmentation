{
 "cells": [
  {
   "cell_type": "code",
   "execution_count": 1,
   "id": "125c5917-2371-4ef4-98be-d0a69c767966",
   "metadata": {},
   "outputs": [],
   "source": [
    "#!pip install streamlit"
   ]
  },
  {
   "cell_type": "code",
   "execution_count": 2,
   "id": "e42a6480-32cd-46f1-bd31-f75779508cb6",
   "metadata": {},
   "outputs": [],
   "source": [
    "#!pip install streamlit pyngrok"
   ]
  },
  {
   "cell_type": "code",
   "execution_count": 3,
   "id": "598b9018-be2b-43ce-bf0f-2009b94b8618",
   "metadata": {},
   "outputs": [
    {
     "name": "stdout",
     "output_type": "stream",
     "text": [
      "Authtoken saved to configuration file: C:\\Users\\uttam\\AppData\\Local/ngrok/ngrok.yml\n"
     ]
    }
   ],
   "source": [
    "!ngrok authtoken 30ExLK2yDH73ImYhMUlfbrV518q_87wDqbXdQGMkeiis6A7wV"
   ]
  },
  {
   "cell_type": "code",
   "execution_count": null,
   "id": "e0658571-9228-4157-be4f-688e3ec71fef",
   "metadata": {},
   "outputs": [],
   "source": []
  },
  {
   "cell_type": "code",
   "execution_count": 4,
   "id": "6a50d9bc-63ff-4cfb-9dbd-08a3f6b4b36b",
   "metadata": {},
   "outputs": [],
   "source": [
    "# Load Data and Models\n",
    "#@st.cache_data(allow_output_mutation=True)\n",
    "def load_models_and_data():\n",
    "    # Load customer clustering model\n",
    "    kmeans = joblib.load(\"kmeans_model.pkl\")\n",
    "    scaler = joblib.load(\"scaler.pkl\")\n",
    "    \n",
    "    # Load pivot table for product similarity\n",
    "    pivot = pd.read_pickle(\"product_customer_pivot.pkl\")\n",
    "    product_similarity = pd.read_pickle(\"product_similarity.pkl\")\n",
    "\n",
    "    return kmeans, scaler, pivot, product_similarity\n"
   ]
  },
  {
   "cell_type": "code",
   "execution_count": null,
   "id": "dfc9c3d5-b3c7-459a-bf7c-3f78810be40f",
   "metadata": {},
   "outputs": [],
   "source": []
  },
  {
   "cell_type": "code",
   "execution_count": 29,
   "id": "86eae554-c69b-4313-a55a-bde7eb1dd526",
   "metadata": {},
   "outputs": [
    {
     "name": "stdout",
     "output_type": "stream",
     "text": [
      "Overwriting app.py\n"
     ]
    }
   ],
   "source": [
    "%%writefile app.py\n",
    "import streamlit as st\n",
    "import pandas as pd\n",
    "import numpy as np\n",
    "import joblib\n",
    "from sklearn.metrics.pairwise import cosine_similarity\n",
    "\n",
    "#kmeans, scaler, pivot, product_similarity = load_models_and_data()\n",
    "kmeans = joblib.load(\"kmeans_model.pkl\")\n",
    "scaler = joblib.load(\"scaler.pkl\")\n",
    "    \n",
    "# Load pivot table for product similarity\n",
    "pivot = pd.read_pickle(\"product_customer_pivot.pkl\")\n",
    "product_similarity = pd.read_pickle(\"product_similarity.pkl\")\n",
    "\n",
    "st.set_page_config(page_title=\"🛒 Shopper Spectrum App\", layout=\"centered\")\n",
    "st.title(\"🛍️ Shopper Spectrum: E-Commerce Intelligence\")\n",
    "st.markdown(\"---\")\n",
    "\n",
    "# Tabs for App Modules\n",
    "app_mode = st.sidebar.selectbox(\"Choose Module\", [\"📦 Product Recommendation\", \"👥 Customer Segmentation\"])\n",
    "# ====================================\n",
    "# Module 1: Product Recommendation\n",
    "# ====================================\n",
    "if app_mode == \"📦 Product Recommendation\":\n",
    "    st.subheader(\"🔍 Recommend Similar Products\")\n",
    "\n",
    "    product_input = st.text_input(\"Enter a Product Name:\")\n",
    "\n",
    "    if st.button(\"Get Recommendations\"):\n",
    "        if product_input in pivot.index:\n",
    "            product_vector = product_similarity.loc[product_input].sort_values(ascending=False)[1:6]\n",
    "            st.success(\"Recommended Products:\")\n",
    "            for i, product in enumerate(product_vector.index):\n",
    "                st.markdown(f\"{i+1}. **{product}**\")\n",
    "        else:\n",
    "            st.error(\"Product not found. Please try another product name.\")\n",
    "# ====================================\n",
    "# Module 2: Customer Segmentation\n",
    "# ====================================\n",
    "elif app_mode == \"👥 Customer Segmentation\":\n",
    "    st.subheader(\"🧮 Predict Customer Segment\")\n",
    "\n",
    "    recency = st.number_input(\"Recency (days since last purchase):\", min_value=0)\n",
    "    frequency = st.number_input(\"Frequency (total transactions):\", min_value=0)\n",
    "    monetary = st.number_input(\"Monetary (total spend):\", min_value=0.0)\n",
    "\n",
    "    if st.button(\"Predict Cluster\"):\n",
    "        input_df = pd.DataFrame({\"Recency\": [recency], \"Frequency\": [frequency], \"Monetory\": [monetary]})\n",
    "        scaled_input = scaler.transform(input_df)\n",
    "        cluster_label = kmeans.predict(scaled_input)[0]\n",
    "\n",
    "        segment_map = {\n",
    "            0: \"High-Value\",\n",
    "            1: \"Regular\",\n",
    "            2: \"Occasional\",\n",
    "            3: \"At-Risk\"\n",
    "        }\n",
    "\n",
    "        segment_name = segment_map.get(cluster_label, \"Unknown\")\n",
    "        st.success(f\"Customer Segment: **{segment_name}**\")\n",
    "\n",
    "st.markdown(\"---\")\n",
    "st.caption(\"📊 Powered by RFM Clustering & Collaborative Filtering\")\n"
   ]
  },
  {
   "cell_type": "code",
   "execution_count": 6,
   "id": "bbf536d7-1cd2-45a9-8028-1f090fd1cde5",
   "metadata": {},
   "outputs": [
    {
     "name": "stdout",
     "output_type": "stream",
     "text": [
      "Authtoken saved to configuration file: C:\\Users\\uttam\\AppData\\Local/ngrok/ngrok.yml\n"
     ]
    }
   ],
   "source": [
    "!ngrok authtoken 30ExLK2yDH73ImYhMUlfbrV518q_87wDqbXdQGMkeiis6A7wV"
   ]
  },
  {
   "cell_type": "code",
   "execution_count": 25,
   "id": "2849c4f9-04b9-4820-b681-8bdf407bd440",
   "metadata": {},
   "outputs": [],
   "source": [
    "# write code for Generating App link to streamlit\n",
    "import os\n",
    "import threading\n",
    "\n",
    "def run_streamlit():\n",
    "    os.system(\"streamlit run app.py --server.port 8080\")\n",
    "\n",
    "thread = threading.Thread(target = run_streamlit)\n",
    "thread.start()"
   ]
  },
  {
   "cell_type": "code",
   "execution_count": 26,
   "id": "3405c36a-219a-40d9-916a-f4f8eba1a7b6",
   "metadata": {},
   "outputs": [
    {
     "name": "stdout",
     "output_type": "stream",
     "text": [
      "Your streamlit URL is :-  NgrokTunnel: \"https://4f89feb15f11.ngrok-free.app\" -> \"http://localhost:8080\"\n"
     ]
    }
   ],
   "source": [
    "from pyngrok import ngrok\n",
    "import time\n",
    "\n",
    "time.sleep(5)\n",
    "\n",
    "public_url = ngrok.connect(8080)\n",
    "print('Your streamlit URL is :- ', public_url)"
   ]
  },
  {
   "cell_type": "code",
   "execution_count": null,
   "id": "1c23ad8a-1a96-4ed4-b8f1-f23b612294b7",
   "metadata": {},
   "outputs": [],
   "source": []
  },
  {
   "cell_type": "code",
   "execution_count": 27,
   "id": "5309bf16-daec-444c-a6a7-28723464c391",
   "metadata": {},
   "outputs": [],
   "source": [
    "import pandas as pd\n",
    "import numpy as np\n",
    "pivot = pd.read_pickle(\"product_customer_pivot.pkl\")"
   ]
  },
  {
   "cell_type": "code",
   "execution_count": 28,
   "id": "504f790b-d804-4df4-b250-94d41584ce1c",
   "metadata": {},
   "outputs": [
    {
     "name": "stdout",
     "output_type": "stream",
     "text": [
      "[' 4 PURPLE FLOCK DINNER CANDLES', \" 50'S CHRISTMAS GIFT BAG LARGE\", ' DOLLY GIRL BEAKER', ' I LOVE LONDON MINI BACKPACK', ' I LOVE LONDON MINI RUCKSACK', ' NINE DRAWER OFFICE TIDY', ' OVAL WALL MIRROR DIAMANTE ', ' RED SPOT GIFT BAG LARGE', ' SET 2 TEA TOWELS I LOVE LONDON ', ' SPACEBOY BABY GIFT SET']\n"
     ]
    }
   ],
   "source": [
    "print(pivot.index.tolist()[:10])  # Shows first 10 product names"
   ]
  },
  {
   "cell_type": "code",
   "execution_count": null,
   "id": "2bf553af-8348-468b-b0ca-22dbd4d35d38",
   "metadata": {},
   "outputs": [],
   "source": []
  }
 ],
 "metadata": {
  "kernelspec": {
   "display_name": "Python 3 (ipykernel)",
   "language": "python",
   "name": "python3"
  },
  "language_info": {
   "codemirror_mode": {
    "name": "ipython",
    "version": 3
   },
   "file_extension": ".py",
   "mimetype": "text/x-python",
   "name": "python",
   "nbconvert_exporter": "python",
   "pygments_lexer": "ipython3",
   "version": "3.9.21"
  }
 },
 "nbformat": 4,
 "nbformat_minor": 5
}
